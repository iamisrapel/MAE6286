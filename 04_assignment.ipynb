{
 "cells": [
  {
   "cell_type": "code",
   "execution_count": 1,
   "metadata": {
    "collapsed": true
   },
   "outputs": [],
   "source": [
    "import numpy\n",
    "from matplotlib import pyplot\n",
    "import matplotlib.cm as cm\n",
    "%matplotlib inline"
   ]
  },
  {
   "cell_type": "code",
   "execution_count": 2,
   "metadata": {
    "collapsed": true
   },
   "outputs": [],
   "source": [
    "n = 192\n",
    "\n",
    "Du, Dv, F, k = 0.00016, 0.00008, 0.035, 0.065 # Bacteria 1 \n",
    "\n",
    "dh = 5/(n-1)\n",
    "\n",
    "T = 8000\n",
    "\n",
    "dt = .9 * dh**2 / (4*max(Du,Dv))\n",
    "\n",
    "nt = int(T/dt)"
   ]
  },
  {
   "cell_type": "code",
   "execution_count": 3,
   "metadata": {
    "collapsed": false
   },
   "outputs": [],
   "source": [
    "uvinitial = numpy.load('./uvinitial.npz')\n",
    "U = uvinitial['U']\n",
    "V = uvinitial['V']"
   ]
  },
  {
   "cell_type": "code",
   "execution_count": 5,
   "metadata": {
    "collapsed": false
   },
   "outputs": [],
   "source": [
    "for t in range(1,nt):\n",
    "    Un = U.copy()\n",
    "    Vn = V.copy()\n",
    "    U[1:-1,1:-1] = Un[1:-1,1:-1]+\\\n",
    "                   Du*dt/(dh**2)*((Un[1:-1,2:]-2*Un[1:-1,1:-1]+Un[1:-1,:-2])+\\\n",
    "                                  (Un[2:,1:-1]-2*Un[1:-1,1:-1]+Un[:-2,1:-1]))-\\\n",
    "                  dt*Un[1:-1,1:-1]*Vn[1:-1,1:-1]**2+\\\n",
    "                  F*(1-Un[1:-1,1:-1])*dt\n",
    "    V[1:-1,1:-1] = Vn[1:-1,1:-1]+\\\n",
    "                   Dv*dt/(dh**2)*(Vn[1:-1,2:]-2*Vn[1:-1,1:-1]+Vn[1:-1,:-2]+Vn[2:,1:-1]-2*Vn[1:-1,1:-1]+Vn[:-2,1:-1])+\\\n",
    "                   dt*Un[1:-1,1:-1]*Vn[1:-1,1:-1]**2-\\\n",
    "                   (F+k)*Vn[1:-1,1:-1]*dt\n",
    "    #BC\n",
    "    U[0,1:-1] = U[1,1:-1]\n",
    "    U[-1,1:-1] = U[-2,1:-1]\n",
    "    U[1:-1,0] = U[1:-1,1]\n",
    "    U[1:-1,-1] = U[1:-1,-2]\n",
    "    U[0,0] = U[1,1]\n",
    "    U[0,-1] = U[1,-2]\n",
    "    U[-1,0] = U[-2,1]\n",
    "    U[-1,-1] = U[-2,-2]\n",
    "    \n",
    "    #corner\n",
    "    V[0,1:-1] = V[1,1:-1]\n",
    "    V[-1,1:-1] = V[-2,1:-1]\n",
    "    V[1:-1,0] = V[1:-1,1]\n",
    "    V[1:-1,-1] = V[1:-1,-2]\n",
    "    V[0,0] = V[1,1]\n",
    "    V[0,-1] = V[1,-2]\n",
    "    V[-1,0] = V[-2,1]\n",
    "    V[-1,-1] = V[-2,-2]"
   ]
  },
  {
   "cell_type": "code",
   "execution_count": 8,
   "metadata": {
    "collapsed": false,
    "scrolled": true
   },
   "outputs": [
    {
     "data": {
      "text/plain": [
       "array([ 0.92468763,  0.85016693,  0.66816509,  0.90198113,  0.90395252])"
      ]
     },
     "execution_count": 8,
     "metadata": {},
     "output_type": "execute_result"
    }
   ],
   "source": [
    "U[100,::40]"
   ]
  },
  {
   "cell_type": "markdown",
   "metadata": {},
   "source": [
    "Homework is the code above, below is something for fun."
   ]
  },
  {
   "cell_type": "code",
   "execution_count": null,
   "metadata": {
    "collapsed": true
   },
   "outputs": [],
   "source": [
    "def assignment4():\n",
    "    "
   ]
  }
 ],
 "metadata": {
  "anaconda-cloud": {},
  "kernelspec": {
   "display_name": "Python [default]",
   "language": "python",
   "name": "python3"
  },
  "language_info": {
   "codemirror_mode": {
    "name": "ipython",
    "version": 3
   },
   "file_extension": ".py",
   "mimetype": "text/x-python",
   "name": "python",
   "nbconvert_exporter": "python",
   "pygments_lexer": "ipython3",
   "version": "3.5.2"
  }
 },
 "nbformat": 4,
 "nbformat_minor": 1
}
