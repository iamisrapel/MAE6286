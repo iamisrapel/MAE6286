{
 "cells": [
  {
   "cell_type": "code",
   "execution_count": 126,
   "metadata": {
    "collapsed": true
   },
   "outputs": [],
   "source": [
    "import numpy as np\n",
    "from matplotlib import pyplot as plt\n",
    "%matplotlib inline"
   ]
  },
  {
   "cell_type": "code",
   "execution_count": 127,
   "metadata": {
    "collapsed": true
   },
   "outputs": [],
   "source": [
    "T = 100.0\n",
    "dt = 0.02\n",
    "N = int(T/dt)+1\n",
    "t = np.linspace(0.0, T, N)"
   ]
  },
  {
   "cell_type": "code",
   "execution_count": 128,
   "metadata": {
    "collapsed": false
   },
   "outputs": [],
   "source": [
    "h0 = 0.\n",
    "v0 = 0.\n",
    "g = 9.81\n",
    "m_s = 50\n",
    "density = 1.091\n",
    "A = 0.7854\n",
    "v_e = 325\n",
    "C_D = 0.15\n",
    "\n",
    "u = np.array([h0, v0])\n",
    "h = np.zeros(N)\n",
    "v = np.zeros(N)\n",
    "h[0] = h0\n",
    "v[0] = v0"
   ]
  },
  {
   "cell_type": "code",
   "execution_count": 129,
   "metadata": {
    "collapsed": true
   },
   "outputs": [],
   "source": [
    "m_pp = np.zeros(len(t))"
   ]
  },
  {
   "cell_type": "code",
   "execution_count": 130,
   "metadata": {
    "collapsed": false
   },
   "outputs": [],
   "source": [
    "for i in range (0, len(t)):\n",
    "    if t[i] < 5 :\n",
    "        mpdian = 20.\n",
    "        m_pp[i] = mpdian\n",
    "    else :\n",
    "        mpdian = 0.\n",
    "        m_pp[i] = mpdian\n",
    "        \n",
    "        \n",
    "        "
   ]
  },
  {
   "cell_type": "code",
   "execution_count": 131,
   "metadata": {
    "collapsed": false
   },
   "outputs": [],
   "source": [
    "m_p = 100 - t*m_pp"
   ]
  },
  {
   "cell_type": "code",
   "execution_count": 132,
   "metadata": {
    "collapsed": false
   },
   "outputs": [],
   "source": [
    "\n",
    "for n in range(1, N):\n",
    "    u = u +dt*np.array([u[1], -g + (m_pp[n] * v_e)/(m_s + m_p[n] )-0.5* density * v0 * abs(v0) * A * C_D * (1/m_s + m_p[n])])\n",
    "    h[n] = u[0]\n",
    "    v[n] = u[1]"
   ]
  },
  {
   "cell_type": "code",
   "execution_count": 133,
   "metadata": {
    "collapsed": false,
    "scrolled": true
   },
   "outputs": [
    {
     "data": {
      "text/plain": [
       "[<matplotlib.lines.Line2D at 0x7f9b1c9b35f8>]"
      ]
     },
     "execution_count": 133,
     "metadata": {},
     "output_type": "execute_result"
    },
    {
     "data": {
      "image/png": "[encoded data removed]",
      "text/plain": [
       "<matplotlib.figure.Figure at 0x7f9b1c9b3828>"
      ]
     },
     "metadata": {},
     "output_type": "display_data"
    }
   ],
   "source": [
    "plt.xlim(0, 100)\n",
    "plt.ylim(0, 6000)\n",
    "plt.tick_params(axis='both', labelsize=14)\n",
    "plt.xlabel('t',fontsize=14)\n",
    "plt.ylabel('h', fontsize=14)\n",
    "plt.plot(t,h,'k-')"
   ]
  },
  {
   "cell_type": "code",
   "execution_count": 134,
   "metadata": {
    "collapsed": false
   },
   "outputs": [
    {
     "data": {
      "text/plain": [
       "[<matplotlib.lines.Line2D at 0x7f9b1c861470>]"
      ]
     },
     "execution_count": 134,
     "metadata": {},
     "output_type": "execute_result"
    },
    {
     "data": {
      "image/png": "[encoded data removed]",
      "text/plain": [
       "<matplotlib.figure.Figure at 0x7f9b1c861358>"
      ]
     },
     "metadata": {},
     "output_type": "display_data"
    }
   ],
   "source": [
    "plt.xlim(0, 20)\n",
    "plt.ylim(-500, 500)\n",
    "plt.tick_params(axis='both', labelsize=14)\n",
    "plt.xlabel('t',fontsize=14)\n",
    "plt.ylabel('h', fontsize=14)\n",
    "plt.plot(t,v,'k-')"
   ]
  },
  {
   "cell_type": "code",
   "execution_count": null,
   "metadata": {
    "collapsed": true
   },
   "outputs": [],
   "source": []
  }
 ],
 "metadata": {
  "anaconda-cloud": {},
  "kernelspec": {
   "display_name": "Python [default]",
   "language": "python",
   "name": "python3"
  },
  "language_info": {
   "codemirror_mode": {
    "name": "ipython",
    "version": 3
   },
   "file_extension": ".py",
   "mimetype": "text/x-python",
   "name": "python",
   "nbconvert_exporter": "python",
   "pygments_lexer": "ipython3",
   "version": "3.5.2"
  }
 },
 "nbformat": 4,
 "nbformat_minor": 1
}
