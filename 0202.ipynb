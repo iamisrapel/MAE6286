{
 "cells": [
  {
   "cell_type": "code",
   "execution_count": 1,
   "metadata": {
    "collapsed": true
   },
   "outputs": [],
   "source": [
    "import numpy\n",
    "from matplotlib import pyplot\n",
    "%matplotlib inline\n",
    "from matplotlib import rcParams\n",
    "rcParams['font.family'] = 'serif'\n",
    "rcParams['font.size'] = 16"
   ]
  },
  {
   "cell_type": "code",
   "execution_count": 3,
   "metadata": {
    "collapsed": true
   },
   "outputs": [],
   "source": [
    "def linearconv(nx):\n",
    "    \"\"\"Solve the linear convection equation.\n",
    "    \n",
    "    Solves the equation d_t u + c d_x u = 0 where \n",
    "    * the wavespeed c is set to 1\n",
    "    * the domain is x \\in [0, 2]\n",
    "    * 20 timesteps are taken, with \\Delta t = 0.025\n",
    "    * the initial data is the hat function\n",
    "    \n",
    "    Produces a plot of the results\n",
    "    \n",
    "    Parameters\n",
    "    ----------\n",
    "    \n",
    "    nx : integer\n",
    "        number of internal grid points\n",
    "        \n",
    "    Returns\n",
    "    -------\n",
    "    \n",
    "    None : none\n",
    "    \"\"\"\n",
    "    dx = 2/(nx-1)\n",
    "    nt = 20    \n",
    "    dt = .025  \n",
    "    c = 1\n",
    "    \n",
    "    x = numpy.linspace(0,2,nx)\n",
    "\n",
    "    u = numpy.ones(nx)\n",
    "    lbound = numpy.where(x >= 0.5)\n",
    "    ubound = numpy.where(x <= 1)\n",
    "    u[numpy.intersect1d(lbound, ubound)]=2  \n",
    "\n",
    "    un = numpy.ones(nx) \n",
    "\n",
    "    for n in range(nt): \n",
    "        un = u.copy() \n",
    "        u[1:] = un[1:] -c*dt/dx*(un[1:] -un[0:-1]) \n",
    "        \n",
    "        \n",
    "\n",
    "    pyplot.plot(x, u, color='#003366', ls='--', lw=3)\n",
    "    pyplot.ylim(0,2.5);  "
   ]
  },
  {
   "cell_type": "code",
   "execution_count": 4,
   "metadata": {
    "collapsed": false
   },
   "outputs": [
    {
     "data": {
      "image/png": "[encoded data removed]",
      "text/plain": [
       "<matplotlib.figure.Figure at 0x7f54a81099e8>"
      ]
     },
     "metadata": {},
     "output_type": "display_data"
    }
   ],
   "source": [
    "linearconv(40)"
   ]
  },
  {
   "cell_type": "code",
   "execution_count": null,
   "metadata": {
    "collapsed": true
   },
   "outputs": [],
   "source": []
  }
 ],
 "metadata": {
  "kernelspec": {
   "display_name": "Python [default]",
   "language": "python",
   "name": "python3"
  },
  "language_info": {
   "codemirror_mode": {
    "name": "ipython",
    "version": 3
   },
   "file_extension": ".py",
   "mimetype": "text/x-python",
   "name": "python",
   "nbconvert_exporter": "python",
   "pygments_lexer": "ipython3",
   "version": "3.5.2"
  }
 },
 "nbformat": 4,
 "nbformat_minor": 1
}
