{
 "cells": [
  {
   "cell_type": "code",
   "execution_count": 1,
   "metadata": {
    "collapsed": true
   },
   "outputs": [],
   "source": [
    "import numpy\n",
    "from matplotlib import pyplot, cm\n",
    "%matplotlib inline"
   ]
  },
  {
   "cell_type": "code",
   "execution_count": 2,
   "metadata": {
    "collapsed": true
   },
   "outputs": [],
   "source": [
    "nx = 41\n",
    "ny = 41\n",
    "\n",
    "l = 1.\n",
    "h = 1.\n",
    "\n",
    "dx = l/(nx-1)\n",
    "dy = h/(ny-1)\n",
    "\n",
    "target = 1e-6\n",
    "u = 1"
   ]
  },
  {
   "cell_type": "code",
   "execution_count": 3,
   "metadata": {
    "collapsed": false
   },
   "outputs": [],
   "source": [
    "w = numpy.zeros((nx,ny))\n",
    "psi = numpy.zeros_like(w)"
   ]
  },
  {
   "cell_type": "code",
   "execution_count": 4,
   "metadata": {
    "collapsed": true
   },
   "outputs": [],
   "source": [
    "def L1norm(new, old):\n",
    "    norm = numpy.sum(numpy.abs(new-old))\n",
    "    return norm"
   ]
  },
  {
   "cell_type": "code",
   "execution_count": 5,
   "metadata": {
    "collapsed": true
   },
   "outputs": [],
   "source": [
    "wuchaw = 1\n",
    "wuchapsi = 1\n",
    "a = 1"
   ]
  },
  {
   "cell_type": "code",
   "execution_count": 6,
   "metadata": {
    "collapsed": true
   },
   "outputs": [],
   "source": [
    "wn = numpy.zeros_like(w)\n",
    "psin = numpy.zeros_like(psi)\n"
   ]
  },
  {
   "cell_type": "code",
   "execution_count": 7,
   "metadata": {
    "collapsed": false
   },
   "outputs": [
    {
     "name": "stderr",
     "output_type": "stream",
     "text": [
      "C:\\Users\\55468\\Anaconda3\\lib\\site-packages\\ipykernel\\__main__.py:7: RuntimeWarning: overflow encountered in add\n",
      "C:\\Users\\55468\\Anaconda3\\lib\\site-packages\\ipykernel\\__main__.py:18: RuntimeWarning: invalid value encountered in subtract\n",
      "C:\\Users\\55468\\Anaconda3\\lib\\site-packages\\ipykernel\\__main__.py:20: RuntimeWarning: invalid value encountered in subtract\n",
      "C:\\Users\\55468\\Anaconda3\\lib\\site-packages\\ipykernel\\__main__.py:21: RuntimeWarning: invalid value encountered in subtract\n",
      "C:\\Users\\55468\\Anaconda3\\lib\\site-packages\\ipykernel\\__main__.py:2: RuntimeWarning: invalid value encountered in subtract\n",
      "  from ipykernel import kernelapp as app\n"
     ]
    }
   ],
   "source": [
    "while a>target:\n",
    "    \n",
    "    \n",
    "    \n",
    "    psin = psi.copy()\n",
    "    wn = w.copy()\n",
    "    w[1:-1,1:-1] = 0.25*(wn[1:-1,:-2] + wn[1:-1,2:] + wn[:-2,1:-1] + wn[2:,1:-1])\n",
    "    psi[1:-1,1:-1] = 1/(2*(dx**2 + dy**2)) * \\\n",
    "                        ((psin[1:-1,2:]+psin[1:-1,:-2])*dy**2 +\\\n",
    "                        (psin[2:,1:-1] + psin[:-2,1:-1])*dx**2 -\\\n",
    "                         w[1:-1,1:-1]*dx**2*dy**2)\n",
    "\n",
    "    \n",
    "    \n",
    "    \n",
    "    \n",
    "\n",
    "\n",
    "    \n",
    "    \n",
    "    w[-1,:] = (-1/(2*dy**2))*(8*psi[-2,:] - psi[-3,:]) - 3/dy\n",
    "    w[0,:] = (-1/(2*dy**2))*(8*psi[1,:] - psi[2,:]) \n",
    "    w[:,-1] =(-1/(2*dy**2))*(8*psi[:,-2] - psi[:,-3]) \n",
    "    w[:,0] = (-1/(2*dy**2))*(8*psi[:,1] - psi[:,2])\n",
    "    \n",
    "    wuchaw = L1norm(w,wn)\n",
    "    wuchapsi = L1norm(psi, psin)\n",
    "    a = max(wuchaw,wuchapsi)\n",
    "\n",
    "\n",
    "    \n",
    "    \n",
    "    \n",
    "    \n",
    "    \n",
    "    \n",
    "\n",
    "    \n"
   ]
  },
  {
   "cell_type": "code",
   "execution_count": 8,
   "metadata": {
    "collapsed": false
   },
   "outputs": [],
   "source": [
    "x = numpy.linspace(0, 1, nx)\n",
    "y = numpy.linspace(0, 1, ny)\n",
    "X, Y = numpy.meshgrid(x,y)"
   ]
  },
  {
   "cell_type": "code",
   "execution_count": 9,
   "metadata": {
    "collapsed": false,
    "scrolled": true
   },
   "outputs": [
    {
     "data": {
      "image/png": "[encoded data removed]",
      "text/plain": [
       "<matplotlib.figure.Figure at 0x1d1f90385c0>"
      ]
     },
     "metadata": {},
     "output_type": "display_data"
    }
   ],
   "source": [
    "pyplot.figure(figsize=(8,5))\n",
    "pyplot.contourf(X,Y,psi,20,cmap=cm.viridis)\n",
    "pyplot.xlabel('$x$')\n",
    "pyplot.ylabel('$y$')\n",
    "pyplot.colorbar();"
   ]
  },
  {
   "cell_type": "code",
   "execution_count": 10,
   "metadata": {
    "collapsed": false
   },
   "outputs": [
    {
     "data": {
      "text/plain": [
       "array([  0.00000000e+000,   2.30104751e+302,   2.43821052e+301,\n",
       "         2.43821052e+301,   2.30104751e+302,   0.00000000e+000])"
      ]
     },
     "execution_count": 10,
     "metadata": {},
     "output_type": "execute_result"
    }
   ],
   "source": [
    "numpy.round(psi[32,::8], 4)"
   ]
  },
  {
   "cell_type": "code",
   "execution_count": 11,
   "metadata": {
    "collapsed": false
   },
   "outputs": [
    {
     "data": {
      "text/plain": [
       "array([[ -0.00000000e+000,  -1.98251596e+306,  -2.16471963e+306, ...,\n",
       "         -2.16471963e+306,  -1.98251596e+306,  -0.00000000e+000],\n",
       "       [ -1.98338612e+306,  -1.25523348e+306,  -1.01795645e+306, ...,\n",
       "         -1.01795645e+306,  -1.25523348e+306,  -1.98338612e+306],\n",
       "       [ -2.17168090e+306,  -1.02100210e+306,  -6.02801323e+305, ...,\n",
       "         -6.02801323e+305,  -1.02100210e+306,  -2.17168090e+306],\n",
       "       ..., \n",
       "       [             -inf,              -inf,  -2.81613864e+307, ...,\n",
       "         -2.81613864e+307,              -inf,              -inf],\n",
       "       [              nan,              -inf,              -inf, ...,\n",
       "                     -inf,              -inf,               nan],\n",
       "       [ -0.00000000e+000,               nan,              -inf, ...,\n",
       "                     -inf,               nan,  -0.00000000e+000]])"
      ]
     },
     "execution_count": 11,
     "metadata": {},
     "output_type": "execute_result"
    }
   ],
   "source": [
    "w"
   ]
  },
  {
   "cell_type": "code",
   "execution_count": 12,
   "metadata": {
    "collapsed": true
   },
   "outputs": [],
   "source": [
    "    #corners\n",
    "    \n",
    "    #when i = 1, j = 1\n",
    "    w[1,1] = 0.25*(wn[1,2] + wn[2,1] - 4*psin[1,1]/dx**2)\n",
    "    \n",
    "    #when i = nx-2, j = 1\n",
    "    w[1,nx-2] = 0.25*(wn[1,nx-3] + wn[2,nx-2] - 4*psin[1,nx-2]/dx**2)\n",
    "    \n",
    "    #i = 1, j = ny-2\n",
    "    w[ny-2, 1] = 0.25*(wn[nx-2,2] + wn[nx-3,1] - 2*psin[ny-2,1]/dx**2 + \\\n",
    "                       ((-1/(2*dy**2))*(8*psin[ny-2,1] - psin[ny-3,1]) - 3*u/dy))\n",
    "    \n",
    "    #when i = nx-2, j = ny-2\n",
    "    w[ny-2,nx-2] = 0.25*(wn[ny-2, nx-3] + wn[ny-3, nx-2] - 2*psin[ny-2, nx-2]/dx**2 + \\\n",
    "                         ((-1/(2*dy**2))*(8*psin[ny-2,nx-2] - psin[ny-3, nx-2]) - 3*u/dy))\n",
    "    \n",
    "    \n",
    "    #boundaries\n",
    "    \n",
    "    #top: when j = ny-2, i from 2 to nx-3(include)\n",
    "    w[ny-2,2:-2] = 0.25*(wn[ny-2,3:-1] + wn[ny-2,1:-3] + wn[ny-3,2:-2] + \\\n",
    "                         ((-1/(2*dy**2))*(8*psin[ny-2,2:-2] - psin[ny-3,2:-2]) - 3*u/dy))\n",
    "                       \n",
    "    #left: when i = 1, j from 2 to ny-3\n",
    "    w[2:-2,1] = 0.25*(wn[2:-2,2] + wn[3:-1,1] + wn[1:-3,1] - 2*psin[2:-2,1]/dx**2)\n",
    "    \n",
    "    #bottom: when j = 1, i from 2 to nx-3(include)\n",
    "    w[1,2:-2] = 0.25*(wn[1,3:-1] + wn[1,1:-3] + wn[2,2:-2] -\\\n",
    "                     2*psin[1,2:-2]/dy**2)\n",
    "    \n",
    "    #right: i = nx-2, j from 2 to ny-3\n",
    "    w[2:-2,nx-2] = 0.25*(wn[2:-2,nx-3] + wn[1:-3,nx-2] + wn[3:-1,nx-2] - 2*psin[2:-2,nx-3]/dx**2)\n",
    "    \n",
    "    #middle: i from 2 to nx-3, j from 2 to ny-3\n",
    "    w[2:-2, 2:-2] = 0.25*(wn[1:-3,2:-2] +wn[3:-1,2:-2] + wn[2:-2,1:-3] + wn[2:-2,3:-1])\n",
    "    \n",
    "    \n",
    "    \n",
    "    \n",
    "    \n",
    "    \n",
    "    \n",
    "    \n",
    "\n",
    "\n",
    "       "
   ]
  },
  {
   "cell_type": "code",
   "execution_count": 13,
   "metadata": {
    "collapsed": true
   },
   "outputs": [],
   "source": [
    "    w[1:-2,1:-1] = 0.25*(wn[1:-2,2:] + wn[1:-2, :-2] + wn[2:-1, 1:-1] + wn[:-3, 1:-1])\n",
    "    w[-2,1:-1] = 0.25*(wn[-2,2:] + wn[-2,:-2] + wn[-3,1:-1] + ((-1/2*dy**2)*(8*psin[-3,1:-1] - psin[-4,1:-1]) - 3*u/dy))"
   ]
  },
  {
   "cell_type": "code",
   "execution_count": 14,
   "metadata": {
    "collapsed": true
   },
   "outputs": [],
   "source": [
    "    w[1:-1,1:-1] = 0.25*(wn[1:-1,:-2] + wn[1:-1,2:] + wn[:-2,1:-1] + wn[2:,1:-1])\n",
    "    w[-1,1:-1] = (-1/(2*dy**2))*(8*psin[-2,1:-1] - psin[-3,1:-1]) - 3*u/dy"
   ]
  },
  {
   "cell_type": "code",
   "execution_count": 15,
   "metadata": {
    "collapsed": true
   },
   "outputs": [],
   "source": [
    "    w[1:-1,1:-1] = 0.25*(wn[1:-1,:-2] + wn[1:-1,2:] + wn[:-2,1:-1]+ wn[2:,1:-1])\n",
    "    \n",
    "    w[-1,1:-1] = (-1/(2*dy**2))*(8*psin[-2,1:-1] - psin[-3,1:-1]) - 3*u/dy\n",
    "    w[0,1:-1] = -2*psin[1,1:-1]\n",
    "    w[1:-1,0] = -2*psin[1:-1,1]\n",
    "    w[1:-1,-1] = -2*psin[1:-1,-2]"
   ]
  },
  {
   "cell_type": "code",
   "execution_count": 16,
   "metadata": {
    "collapsed": true
   },
   "outputs": [],
   "source": [
    "    w[2:-2,2:-2] = 0.25*(wn[2:-2,1:-3] + wn[2:-2,3:-1] + wn[1:-3,2:-2]+ wn[3:-1,2:-2])\n",
    "    \n",
    "    w[-2,2:-2] = 0.25*(wn[-2,3:-1] + wn[-2,1:-3] + wn[-3,2:-2] + ((-1/2*dy**2)*(8*psin[-3,2:-2] - psin[-4,2:-2]) - 3*u/dy))\n",
    "    w[1,2:-2] = 0.25*(-2*psin[1,2:-2]+ wn[1,1:-3] +wn[1,3:-1]+wn[2,2:-2])\n",
    "    w[2:-2,1] = 0.25*(wn[2:-2,2]+wn[1:-3,1]+wn[3:-1,1]- 2*psin[2:-2,1]/dx**2)\n",
    "    w[2:-2,-2] = 0.25*(wn[2:-2,-3]+wn[1:-3,-2]+wn[3:-1,-2]-2*psin[2:-2,-2]/dx**2)"
   ]
  }
 ],
 "metadata": {
  "anaconda-cloud": {},
  "kernelspec": {
   "display_name": "Python [Root]",
   "language": "python",
   "name": "Python [Root]"
  },
  "language_info": {
   "codemirror_mode": {
    "name": "ipython",
    "version": 3
   },
   "file_extension": ".py",
   "mimetype": "text/x-python",
   "name": "python",
   "nbconvert_exporter": "python",
   "pygments_lexer": "ipython3",
   "version": "3.5.2"
  }
 },
 "nbformat": 4,
 "nbformat_minor": 0
}
