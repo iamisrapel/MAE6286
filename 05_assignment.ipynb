{
 "cells": [
  {
   "cell_type": "code",
   "execution_count": 1,
   "metadata": {
    "collapsed": true
   },
   "outputs": [],
   "source": [
    "import numpy"
   ]
  },
  {
   "cell_type": "code",
   "execution_count": 11,
   "metadata": {
    "collapsed": true
   },
   "outputs": [],
   "source": [
    "nx = 41\n",
    "ny = 41\n",
    "\n",
    "l = 1.\n",
    "h = 1.\n",
    "\n",
    "dx = l/(nx-1)\n",
    "dy = h/(ny-1)\n",
    "\n",
    "target = 1e-6\n",
    "u = 1"
   ]
  },
  {
   "cell_type": "code",
   "execution_count": 12,
   "metadata": {
    "collapsed": false
   },
   "outputs": [
    {
     "data": {
      "text/plain": [
       "array([[ 0.,  0.,  0., ...,  0.,  0.,  0.],\n",
       "       [ 0.,  0.,  0., ...,  0.,  0.,  0.],\n",
       "       [ 0.,  0.,  0., ...,  0.,  0.,  0.],\n",
       "       ..., \n",
       "       [ 0.,  0.,  0., ...,  0.,  0.,  0.],\n",
       "       [ 0.,  0.,  0., ...,  0.,  0.,  0.],\n",
       "       [ 0.,  0.,  0., ...,  0.,  0.,  0.]])"
      ]
     },
     "execution_count": 12,
     "metadata": {},
     "output_type": "execute_result"
    }
   ],
   "source": [
    "w = numpy.zeros((nx,ny))\n",
    "w"
   ]
  },
  {
   "cell_type": "code",
   "execution_count": 13,
   "metadata": {
    "collapsed": false
   },
   "outputs": [
    {
     "data": {
      "text/plain": [
       "array([[ 0.    ,  0.    ,  0.    , ...,  0.    ,  0.    ,  0.    ],\n",
       "       [ 0.    ,  0.    ,  0.    , ...,  0.    ,  0.    ,  0.    ],\n",
       "       [ 0.    ,  0.    ,  0.    , ...,  0.    ,  0.    ,  0.    ],\n",
       "       ..., \n",
       "       [ 0.    ,  0.    ,  0.    , ...,  0.    ,  0.    ,  0.    ],\n",
       "       [ 0.    ,  0.    ,  0.    , ...,  0.    ,  0.    ,  0.    ],\n",
       "       [ 0.0125,  0.0125,  0.0125, ...,  0.0125,  0.0125,  0.0125]])"
      ]
     },
     "execution_count": 13,
     "metadata": {},
     "output_type": "execute_result"
    }
   ],
   "source": [
    "psi = numpy.zeros_like(w)\n",
    "psi[-1,1:-1] = 1/4*(2*psi[-2,1:-1] + psi[-1,2:] + psi[-1,:-2] +2*dy)\n",
    "psi[-1,0] = psi[-1,1]\n",
    "psi[-1,-1] = psi[-1,-2]\n",
    "psi"
   ]
  },
  {
   "cell_type": "code",
   "execution_count": 14,
   "metadata": {
    "collapsed": true
   },
   "outputs": [],
   "source": [
    "def L1norm(new, old):\n",
    "    norm = numpy.sum(numpy.abs(new-old))\n",
    "    return norm"
   ]
  },
  {
   "cell_type": "code",
   "execution_count": 15,
   "metadata": {
    "collapsed": true
   },
   "outputs": [],
   "source": [
    "wuchaw = 1\n",
    "wuchapsi = 1"
   ]
  },
  {
   "cell_type": "code",
   "execution_count": 20,
   "metadata": {
    "collapsed": false
   },
   "outputs": [],
   "source": [
    "while wuchaw>target and wuchapsi>target:\n",
    "    \n",
    "\n",
    "    \n",
    "    wn = w.copy()\n",
    "    w[1:-1,1:-1] = 0.25*(wn[1:-1,2:] + wn[1:-1, :-2] + wn[2:, 1:-1] + wn[:-2, 1:-1])\n",
    "    w[-1,:] = -1/(2*dy**2) * (8*psi[-2,:] - psi[-3,:]) - 3*u/dy\n",
    "       \n",
    "    wuchaw = L1norm(w,wn)\n",
    "    \n",
    "    psin = psi.copy()\n",
    "    psi[1:-1,1:-1] = 1/(2*(dx**2 + dy**2))*((psin[1:-1,2:]+psin[1:-1,:-2])*dy**2 +\\\n",
    "                                               (psin[2:,1:-1] +psin[:-2,1:-1])*dx**2 -\\\n",
    "                                               wn[1:-1, 1:-1]*dx**2 *dy**2)\n",
    "    psi[-1,1:-1] = 1/4*(2*psi[-2,1:-1] + psi[-1,2:] + psi[-1,:-2] +2*dy)\n",
    "    psi[-1,0] = psi[-1,1]\n",
    "    psi[-1,-1] = psi[-1,-2]\n",
    "    wuchapsi = L1norm(psi, psin)"
   ]
  },
  {
   "cell_type": "code",
   "execution_count": 21,
   "metadata": {
    "collapsed": false,
    "scrolled": true
   },
   "outputs": [
    {
     "data": {
      "text/plain": [
       "array([[  0.00000000e+000,   0.00000000e+000,   0.00000000e+000, ...,\n",
       "          0.00000000e+000,   0.00000000e+000,   0.00000000e+000],\n",
       "       [  0.00000000e+000,  -7.13153187e+294,  -1.42190955e+295, ...,\n",
       "         -1.42190955e+295,  -7.13153187e+294,   0.00000000e+000],\n",
       "       [  0.00000000e+000,  -1.79720458e+295,  -3.58332879e+295, ...,\n",
       "         -3.58332879e+295,  -1.79720458e+295,   0.00000000e+000],\n",
       "       ..., \n",
       "       [  0.00000000e+000,  -2.11466454e+306,  -4.21629147e+306, ...,\n",
       "         -4.21629147e+306,  -2.11466454e+306,   0.00000000e+000],\n",
       "       [  0.00000000e+000,  -4.28570441e+306,  -8.54498602e+306, ...,\n",
       "         -8.54498602e+306,  -4.28570441e+306,   0.00000000e+000],\n",
       "       [ -1.20000000e+002,  -8.68566239e+306,  -1.73177748e+307, ...,\n",
       "         -1.73177748e+307,  -8.68566239e+306,  -1.20000000e+002]])"
      ]
     },
     "execution_count": 21,
     "metadata": {},
     "output_type": "execute_result"
    }
   ],
   "source": [
    "w"
   ]
  },
  {
   "cell_type": "code",
   "execution_count": 22,
   "metadata": {
    "collapsed": false,
    "scrolled": true
   },
   "outputs": [
    {
     "data": {
      "text/plain": [
       "array([[  0.00000000e+000,   0.00000000e+000,   0.00000000e+000, ...,\n",
       "          0.00000000e+000,   0.00000000e+000,   0.00000000e+000],\n",
       "       [  0.00000000e+000,   1.11504185e+293,   2.22320910e+293, ...,\n",
       "          2.22320910e+293,   1.11504185e+293,   0.00000000e+000],\n",
       "       [  0.00000000e+000,   2.76542492e+293,   5.51380008e+293, ...,\n",
       "          5.51380008e+293,   2.76542492e+293,   0.00000000e+000],\n",
       "       ..., \n",
       "       [  0.00000000e+000,   1.72402034e+303,   3.43741152e+303, ...,\n",
       "          3.43741152e+303,   1.72402034e+303,   0.00000000e+000],\n",
       "       [  0.00000000e+000,   1.74700086e+303,   3.48323089e+303, ...,\n",
       "          3.48323089e+303,   1.74700086e+303,   0.00000000e+000],\n",
       "       [  1.25000000e-002,   1.25000000e-002,   1.25000000e-002, ...,\n",
       "          1.25000000e-002,   1.25000000e-002,   1.25000000e-002]])"
      ]
     },
     "execution_count": 22,
     "metadata": {},
     "output_type": "execute_result"
    }
   ],
   "source": [
    "psi"
   ]
  },
  {
   "cell_type": "code",
   "execution_count": 26,
   "metadata": {
    "collapsed": false
   },
   "outputs": [
    {
     "data": {
      "text/plain": [
       "array([  0.00000000e+000,   7.45578505e+302,   1.20637136e+303,\n",
       "         1.20637136e+303,   7.45578505e+302,   0.00000000e+000])"
      ]
     },
     "execution_count": 26,
     "metadata": {},
     "output_type": "execute_result"
    }
   ],
   "source": [
    "numpy.round(psi[32,::8], 4)"
   ]
  },
  {
   "cell_type": "code",
   "execution_count": 25,
   "metadata": {
    "collapsed": false
   },
   "outputs": [
    {
     "ename": "ValueError",
     "evalue": "The truth value of an array with more than one element is ambiguous. Use a.any() or a.all()",
     "output_type": "error",
     "traceback": [
      "\u001b[0;31m---------------------------------------------------------------------------\u001b[0m",
      "\u001b[0;31mValueError\u001b[0m                                Traceback (most recent call last)",
      "\u001b[0;32m<ipython-input-25-120d9a5378dc>\u001b[0m in \u001b[0;36m<module>\u001b[0;34m()\u001b[0m\n\u001b[0;32m----> 1\u001b[0;31m \u001b[0mmax\u001b[0m\u001b[1;33m(\u001b[0m\u001b[0mnumpy\u001b[0m\u001b[1;33m.\u001b[0m\u001b[0mabs\u001b[0m\u001b[1;33m(\u001b[0m\u001b[0mpsi\u001b[0m\u001b[1;33m)\u001b[0m\u001b[1;33m)\u001b[0m\u001b[1;33m\u001b[0m\u001b[0m\n\u001b[0m",
      "\u001b[0;31mValueError\u001b[0m: The truth value of an array with more than one element is ambiguous. Use a.any() or a.all()"
     ]
    }
   ],
   "source": [
    "max(numpy.abs(psi))"
   ]
  },
  {
   "cell_type": "code",
   "execution_count": null,
   "metadata": {
    "collapsed": true
   },
   "outputs": [],
   "source": [
    "def assignment_5(w, psi, target ):\n",
    "    wn = w.copy()\n",
    "    psin = psi.copy()\n",
    "    wuchaw = 1\n",
    "    wuchapsi = 1\n",
    "    \n",
    "    while wuchaw<target and wuchapsi<target:\n",
    "        wn = w.copy\n",
    "        w[1:-1,1:-1] = 0.25*(wn[1:-1,2:] + wn[1:-1, :-2] + wn[2:, 1:-1] + wn[:-2, 1:-1])\n",
    "        w[-1,:] = -1/(2*dy**2) * (8*psi[-2,:] - psi[-3,:]) - 3*u/dy\n",
    "        \n",
    "        wuchaw = L1norm(w,wn)\n",
    "        \n",
    "        psin = psi.copy()\n",
    "        psi[1:-1,1:-1] = 1/(2*(dx**2 + dy**2))*((psin[1:-1,2:]+psin[1:-1,:-2])*dy**2 +\\\n",
    "                                               (psin[2:,1:-1] +psin[:-2,1:-1])*dx**2 -\\\n",
    "                                               wn[1:-1, 1:-1]*dx**2 *dy**2)\n",
    "        wuchapsi = Linorm(psi, psin)"
   ]
  }
 ],
 "metadata": {
  "anaconda-cloud": {},
  "kernelspec": {
   "display_name": "Python [default]",
   "language": "python",
   "name": "python3"
  },
  "language_info": {
   "codemirror_mode": {
    "name": "ipython",
    "version": 3
   },
   "file_extension": ".py",
   "mimetype": "text/x-python",
   "name": "python",
   "nbconvert_exporter": "python",
   "pygments_lexer": "ipython3",
   "version": "3.5.2"
  }
 },
 "nbformat": 4,
 "nbformat_minor": 0
}
