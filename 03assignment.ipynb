{
 "cells": [
  {
   "cell_type": "code",
   "execution_count": 122,
   "metadata": {
    "collapsed": true
   },
   "outputs": [],
   "source": [
    "import numpy"
   ]
  },
  {
   "cell_type": "code",
   "execution_count": 123,
   "metadata": {
    "collapsed": true
   },
   "outputs": [],
   "source": [
    "nx = 81\n",
    "dx = 0.25\n",
    "dt = 0.0002\n",
    "gamma = 1.4"
   ]
  },
  {
   "cell_type": "code",
   "execution_count": 124,
   "metadata": {
    "collapsed": true
   },
   "outputs": [],
   "source": [
    "x = numpy.linspace(-10, 10, nx)"
   ]
  },
  {
   "cell_type": "code",
   "execution_count": 125,
   "metadata": {
    "collapsed": true
   },
   "outputs": [],
   "source": [
    "#initial condition\n",
    "rho_0 = numpy.empty_like(x)\n",
    "u_0 = numpy.empty_like(x)\n",
    "p_0 = numpy.empty_like(x)\n",
    "counter = 0\n",
    "for i in x:\n",
    "    \n",
    "    if i<=0:\n",
    "        rho_0[counter] = 1.\n",
    "        u_0[counter] = 0.\n",
    "        p_0[counter] = 100.\n",
    "    else:\n",
    "        rho_0[counter] = 0.125\n",
    "        u_0[counter] = 0.\n",
    "        p_0[counter] = 10.\n",
    "        \n",
    "    counter = counter+1\n",
    "    "
   ]
  },
  {
   "cell_type": "code",
   "execution_count": 126,
   "metadata": {
    "collapsed": true
   },
   "outputs": [],
   "source": [
    "def computeeT(p, rho, u, gamma):\n",
    "    e = p/(rho*(gamma-1))\n",
    "    eT = p/(rho*(gamma-1))+0.5 * u**2\n",
    "    return eT"
   ]
  },
  {
   "cell_type": "code",
   "execution_count": 127,
   "metadata": {
    "collapsed": false,
    "scrolled": false
   },
   "outputs": [],
   "source": [
    "e_T = computeeT(p_0, rho_0, u_0, gamma)"
   ]
  },
  {
   "cell_type": "code",
   "execution_count": 128,
   "metadata": {
    "collapsed": true
   },
   "outputs": [],
   "source": [
    "u = numpy.zeros((3, nx))\n",
    "u_1 = rho_0\n",
    "u_2 = rho_0*u_0\n",
    "u_3 = rho_0*e_T\n",
    "u[0,] = u_1\n",
    "u[1,] = u_2\n",
    "u[2,] = u_3"
   ]
  },
  {
   "cell_type": "code",
   "execution_count": 129,
   "metadata": {
    "collapsed": false
   },
   "outputs": [],
   "source": [
    "def computef(u):\n",
    "    f = numpy.zeros_like(u)\n",
    "    u_1 = u[0,]\n",
    "    u_2 = u[1,]\n",
    "    u_3 = u[2,]\n",
    "    \n",
    "    f[0,] = u_2\n",
    "    f[1,] = u_2**2/u_1 + (gamma - 1)*(u_3- 0.5*u_2**2/u_1)\n",
    "    f[2,] = (u_3 + (gamma - 1)*(u_3 - 0.5*u_2**2/u_1))*u_2/u_1\n",
    "    return f"
   ]
  },
  {
   "cell_type": "code",
   "execution_count": 130,
   "metadata": {
    "collapsed": false,
    "scrolled": true
   },
   "outputs": [],
   "source": [
    "un = numpy.zeros_like(u)\n",
    "uplus = numpy.zeros_like(u)\n",
    "fplus = numpy.zeros_like(u)\n",
    "f = numpy.zeros_like(u)\n",
    "\n",
    "\n",
    "for n in range (50):\n",
    "    un = u.copy()\n",
    "    f = computef(u)\n",
    "    uplus[:,1:] = 0.5*(un[:,1:] + un[:,:-1]) - dt/(2*dx) *(f[:,1:]-f[:,:-1])\n",
    "    uplus[:,0] = u[:,0]\n",
    "    fplus = computef(uplus)\n",
    "    u[:,1:-1] = un[:,1:-1] - dt/dx * (fplus[:,2:] - fplus[:,1:-1])\n"
   ]
  },
  {
   "cell_type": "code",
   "execution_count": 131,
   "metadata": {
    "collapsed": false
   },
   "outputs": [
    {
     "data": {
      "text/plain": [
       "array([ 1.        ,  1.        ,  1.        ,  1.        ,  1.        ,\n",
       "        1.        ,  1.        ,  1.        ,  1.        ,  1.        ,\n",
       "        1.        ,  1.        ,  1.        ,  1.        ,  1.        ,\n",
       "        1.        ,  1.        ,  1.        ,  1.        ,  1.        ,\n",
       "        1.        ,  1.        ,  1.        ,  1.        ,  1.        ,\n",
       "        1.        ,  1.        ,  1.        ,  1.        ,  1.        ,\n",
       "        1.        ,  1.        ,  1.        ,  1.        ,  1.        ,\n",
       "        0.99999989,  0.9999998 ,  0.99992703,  0.99993144,  0.98289952,\n",
       "        0.98124165,  0.14300731,  0.14250708,  0.12542519,  0.1250604 ,\n",
       "        0.12500061,  0.12500007,  0.125     ,  0.125     ,  0.125     ,\n",
       "        0.125     ,  0.125     ,  0.125     ,  0.125     ,  0.125     ,\n",
       "        0.125     ,  0.125     ,  0.125     ,  0.125     ,  0.125     ,\n",
       "        0.125     ,  0.125     ,  0.125     ,  0.125     ,  0.125     ,\n",
       "        0.125     ,  0.125     ,  0.125     ,  0.125     ,  0.125     ,\n",
       "        0.125     ,  0.125     ,  0.125     ,  0.125     ,  0.125     ,\n",
       "        0.125     ,  0.125     ,  0.125     ,  0.125     ,  0.125     ,\n",
       "        0.125     ])"
      ]
     },
     "execution_count": 131,
     "metadata": {},
     "output_type": "execute_result"
    }
   ],
   "source": [
    "u[0]"
   ]
  },
  {
   "cell_type": "code",
   "execution_count": 132,
   "metadata": {
    "collapsed": false
   },
   "outputs": [
    {
     "data": {
      "text/plain": [
       "array([  0.00000000e+00,   0.00000000e+00,   0.00000000e+00,\n",
       "         0.00000000e+00,   0.00000000e+00,   0.00000000e+00,\n",
       "         0.00000000e+00,   0.00000000e+00,   0.00000000e+00,\n",
       "         0.00000000e+00,   0.00000000e+00,   0.00000000e+00,\n",
       "         0.00000000e+00,   0.00000000e+00,   0.00000000e+00,\n",
       "         0.00000000e+00,   0.00000000e+00,   0.00000000e+00,\n",
       "         0.00000000e+00,   0.00000000e+00,   0.00000000e+00,\n",
       "         0.00000000e+00,   0.00000000e+00,   0.00000000e+00,\n",
       "         0.00000000e+00,   0.00000000e+00,   0.00000000e+00,\n",
       "         0.00000000e+00,   0.00000000e+00,   0.00000000e+00,\n",
       "         7.43511919e-15,   4.42241799e-14,   2.25939857e-11,\n",
       "         8.56553243e-11,   4.00635059e-08,   9.19750757e-08,\n",
       "         3.77420729e-05,   4.81510412e-05,   1.54303509e-02,\n",
       "         1.07244384e-02,   1.71051861e+00,   1.76493393e+00,\n",
       "         8.51548503e-02,   1.29355414e-02,   1.91226800e-04,\n",
       "         2.48220264e-05,   1.85923947e-07,   2.09205563e-08,\n",
       "         9.92244949e-11,   9.40257934e-12,   3.21094262e-14,\n",
       "         2.50821586e-15,   1.42108547e-18,   0.00000000e+00,\n",
       "         0.00000000e+00,   0.00000000e+00,   0.00000000e+00,\n",
       "         0.00000000e+00,   0.00000000e+00,   0.00000000e+00,\n",
       "         0.00000000e+00,   0.00000000e+00,   0.00000000e+00,\n",
       "         0.00000000e+00,   0.00000000e+00,   0.00000000e+00,\n",
       "         0.00000000e+00,   0.00000000e+00,   0.00000000e+00,\n",
       "         0.00000000e+00,   0.00000000e+00,   0.00000000e+00,\n",
       "         0.00000000e+00,   0.00000000e+00,   0.00000000e+00,\n",
       "         0.00000000e+00,   0.00000000e+00,   0.00000000e+00,\n",
       "         0.00000000e+00,   0.00000000e+00,   0.00000000e+00])"
      ]
     },
     "execution_count": 132,
     "metadata": {},
     "output_type": "execute_result"
    }
   ],
   "source": [
    "u[1]"
   ]
  },
  {
   "cell_type": "code",
   "execution_count": 133,
   "metadata": {
    "collapsed": false
   },
   "outputs": [
    {
     "data": {
      "text/plain": [
       "array([ 250.        ,  250.        ,  250.        ,  250.        ,\n",
       "        250.        ,  250.        ,  250.        ,  250.        ,\n",
       "        250.        ,  250.        ,  250.        ,  250.        ,\n",
       "        250.        ,  250.        ,  250.        ,  250.        ,\n",
       "        250.        ,  250.        ,  250.        ,  250.        ,\n",
       "        250.        ,  250.        ,  250.        ,  250.        ,\n",
       "        250.        ,  250.        ,  250.        ,  250.        ,\n",
       "        250.        ,  250.        ,  250.        ,  250.        ,\n",
       "        250.        ,  249.99999997,  249.99999991,  249.99996026,\n",
       "        249.99993124,  249.97446215,  249.9761134 ,  244.03703542,\n",
       "        243.70211036,   32.11228955,   30.05934027,   25.12164645,\n",
       "         25.01691855,   25.00017153,   25.00002082,   25.00000012,\n",
       "         25.00000001,   25.        ,   25.        ,   25.        ,\n",
       "         25.        ,   25.        ,   25.        ,   25.        ,\n",
       "         25.        ,   25.        ,   25.        ,   25.        ,\n",
       "         25.        ,   25.        ,   25.        ,   25.        ,\n",
       "         25.        ,   25.        ,   25.        ,   25.        ,\n",
       "         25.        ,   25.        ,   25.        ,   25.        ,\n",
       "         25.        ,   25.        ,   25.        ,   25.        ,\n",
       "         25.        ,   25.        ,   25.        ,   25.        ,   25.        ])"
      ]
     },
     "execution_count": 133,
     "metadata": {},
     "output_type": "execute_result"
    }
   ],
   "source": [
    "u[2]"
   ]
  },
  {
   "cell_type": "code",
   "execution_count": 142,
   "metadata": {
    "collapsed": false
   },
   "outputs": [
    {
     "name": "stdout",
     "output_type": "stream",
     "text": [
      "50\n",
      "0.125\n",
      "3.2109426229e-14\n",
      "25.0\n",
      "2.56875409832e-13\n"
     ]
    }
   ],
   "source": [
    "for i in range (len(x)):\n",
    "    if x[i] == 2.5:\n",
    "        print (i)\n",
    "        print(u[0,i])\n",
    "        print(u[1,i])\n",
    "        print(u[2,i])\n",
    "        print(u[1,i]/u[0,i])"
   ]
  },
  {
   "cell_type": "code",
   "execution_count": 143,
   "metadata": {
    "collapsed": false
   },
   "outputs": [
    {
     "data": {
      "text/plain": [
       "10.000000000001727"
      ]
     },
     "execution_count": 143,
     "metadata": {},
     "output_type": "execute_result"
    }
   ],
   "source": [
    "pp = (gamma - 1)*(u[2,50]-0.5*(u[1,50]**2/u[0,50]))\n",
    "pp"
   ]
  },
  {
   "cell_type": "code",
   "execution_count": null,
   "metadata": {
    "collapsed": true
   },
   "outputs": [],
   "source": []
  }
 ],
 "metadata": {
  "anaconda-cloud": {},
  "kernelspec": {
   "display_name": "Python [default]",
   "language": "python",
   "name": "python3"
  },
  "language_info": {
   "codemirror_mode": {
    "name": "ipython",
    "version": 3
   },
   "file_extension": ".py",
   "mimetype": "text/x-python",
   "name": "python",
   "nbconvert_exporter": "python",
   "pygments_lexer": "ipython3",
   "version": "3.5.2"
  }
 },
 "nbformat": 4,
 "nbformat_minor": 1
}
