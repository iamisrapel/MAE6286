{
 "cells": [
  {
   "cell_type": "code",
   "execution_count": 41,
   "metadata": {
    "collapsed": true
   },
   "outputs": [],
   "source": [
    "import numpy"
   ]
  },
  {
   "cell_type": "code",
   "execution_count": 42,
   "metadata": {
    "collapsed": true
   },
   "outputs": [],
   "source": [
    "nx = 81\n",
    "dx = 0.25\n",
    "dt = 0.0002\n",
    "gamma = 1.4"
   ]
  },
  {
   "cell_type": "code",
   "execution_count": 43,
   "metadata": {
    "collapsed": true
   },
   "outputs": [],
   "source": [
    "x = numpy.linspace(-10, 10, nx)"
   ]
  },
  {
   "cell_type": "code",
   "execution_count": 44,
   "metadata": {
    "collapsed": true
   },
   "outputs": [],
   "source": [
    "#initial condition\n",
    "rho_0 = numpy.empty_like(x)\n",
    "u_0 = numpy.empty_like(x)\n",
    "p_0 = numpy.empty_like(x)\n",
    "counter = 0\n",
    "for i in x:\n",
    "    \n",
    "    if i<=0:\n",
    "        rho_0[counter] = 1.\n",
    "        u_0[counter] = 0.\n",
    "        p_0[counter] = 100.\n",
    "    else:\n",
    "        rho_0[counter] = 0.125\n",
    "        u_0[counter] = 0.\n",
    "        p_0[counter] = 10.\n",
    "        \n",
    "    counter = counter+1\n",
    "    "
   ]
  },
  {
   "cell_type": "code",
   "execution_count": 45,
   "metadata": {
    "collapsed": true
   },
   "outputs": [],
   "source": [
    "def computeeT(p, rho, u, gamma):\n",
    "    e = p/(rho*(gamma-1))\n",
    "    eT = p/(rho*(gamma-1))+0.5 * u**2\n",
    "    return eT"
   ]
  },
  {
   "cell_type": "code",
   "execution_count": 46,
   "metadata": {
    "collapsed": false,
    "scrolled": false
   },
   "outputs": [],
   "source": [
    "e_T = computeeT(p_0, rho_0, u_0, gamma)"
   ]
  },
  {
   "cell_type": "code",
   "execution_count": 47,
   "metadata": {
    "collapsed": true
   },
   "outputs": [],
   "source": [
    "u = numpy.zeros((3, nx))\n",
    "u_1 = rho_0\n",
    "u_2 = rho_0*u_0\n",
    "u_3 = rho_0*e_T\n",
    "u[0,] = u_1\n",
    "u[1,] = u_2\n",
    "u[2,] = u_3"
   ]
  },
  {
   "cell_type": "code",
   "execution_count": 53,
   "metadata": {
    "collapsed": false
   },
   "outputs": [],
   "source": [
    "def computef(u):\n",
    "    f = numpy.zeros_like(u)\n",
    "    u_1 = u[0,]\n",
    "    u_2 = u[1,]\n",
    "    u_3 = u[2,]\n",
    "    \n",
    "    f[0,] = u_2\n",
    "    f[1,] = u_2**2/u_1 + (gamma - 1)*(u_3- 0.5*u_2**2/u_1)\n",
    "    f[2,] = (u_3 + (gamma - 1)*(u_3 - 0.5*u_2**2/u_1))*u_2/u_1\n",
    "    return f"
   ]
  },
  {
   "cell_type": "code",
   "execution_count": null,
   "metadata": {
    "collapsed": true
   },
   "outputs": [],
   "source": [
    "for n in range nx\n",
    "un = u.copy\n",
    "f = computef(u)\n",
    "uplus[,1:] = 0.5*(u[,:-1]+u[,1:])- dt/(2*dx) * (f[,1:]-f[,:-1])\n",
    "uminus[,:-1] = 0.5*(u[,:-1]+u[,1:])- dt/(2*dx) * (f[,1:]-f[,:-1])\n",
    "fplus = computef(uplus)\n",
    "fminus = computef(uminus)\n",
    "u[,1:-1] = un[,1:-1] - dt/dx * (fplus[,1:] - )"
   ]
  }
 ],
 "metadata": {
  "anaconda-cloud": {},
  "kernelspec": {
   "display_name": "Python [default]",
   "language": "python",
   "name": "python3"
  },
  "language_info": {
   "codemirror_mode": {
    "name": "ipython",
    "version": 3
   },
   "file_extension": ".py",
   "mimetype": "text/x-python",
   "name": "python",
   "nbconvert_exporter": "python",
   "pygments_lexer": "ipython3",
   "version": "3.5.2"
  }
 },
 "nbformat": 4,
 "nbformat_minor": 1
}
