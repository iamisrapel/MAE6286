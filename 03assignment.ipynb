{
 "cells": [
  {
   "cell_type": "code",
   "execution_count": 452,
   "metadata": {
    "collapsed": true
   },
   "outputs": [],
   "source": [
    "import numpy\n",
    "from matplotlib import pyplot\n",
    "%matplotlib inline"
   ]
  },
  {
   "cell_type": "code",
   "execution_count": 453,
   "metadata": {
    "collapsed": true
   },
   "outputs": [],
   "source": [
    "nx = 81\n",
    "dx = 0.25\n",
    "dt = 0.0002\n",
    "gamma = 1.4"
   ]
  },
  {
   "cell_type": "code",
   "execution_count": 454,
   "metadata": {
    "collapsed": true
   },
   "outputs": [],
   "source": [
    "x = numpy.linspace(-10, 10, nx)"
   ]
  },
  {
   "cell_type": "code",
   "execution_count": 455,
   "metadata": {
    "collapsed": true
   },
   "outputs": [],
   "source": [
    "#initial condition\n",
    "rho_0 = numpy.empty_like(x)\n",
    "u_0 = numpy.empty_like(x)\n",
    "p_0 = numpy.empty_like(x)\n",
    "counter = 0\n",
    "for i in x:\n",
    "    \n",
    "    if i<=0:\n",
    "        rho_0[counter] = 1.\n",
    "        u_0[counter] = 0.\n",
    "        p_0[counter] = 100000.\n",
    "    else:\n",
    "        rho_0[counter] = 0.125\n",
    "        u_0[counter] = 0.\n",
    "        p_0[counter] = 10000.\n",
    "        \n",
    "    counter = counter+1\n",
    "    "
   ]
  },
  {
   "cell_type": "code",
   "execution_count": 456,
   "metadata": {
    "collapsed": true
   },
   "outputs": [],
   "source": [
    "def computeeT(p, rho, u, gamma):   \n",
    "    eT = p/(rho*(gamma-1))+0.5 * u**2\n",
    "    return eT"
   ]
  },
  {
   "cell_type": "code",
   "execution_count": 457,
   "metadata": {
    "collapsed": false,
    "scrolled": false
   },
   "outputs": [],
   "source": [
    "e_T = computeeT(p_0, rho_0, u_0, gamma)"
   ]
  },
  {
   "cell_type": "code",
   "execution_count": 458,
   "metadata": {
    "collapsed": true
   },
   "outputs": [],
   "source": [
    "u = numpy.zeros((3, nx))\n",
    "u[0,] = rho_0\n",
    "u[1,] = rho_0*u_0\n",
    "u[2,] = rho_0*e_T"
   ]
  },
  {
   "cell_type": "code",
   "execution_count": 459,
   "metadata": {
    "collapsed": false
   },
   "outputs": [],
   "source": [
    "def computef(u):\n",
    "    f = numpy.zeros_like(u)\n",
    "    u_1 = u[0,]\n",
    "    u_2 = u[1,]\n",
    "    u_3 = u[2,]\n",
    "    \n",
    "    f[0,] = u_2\n",
    "    f[1,] = u_2**2/u_1 + (gamma - 1)*(u_3- 0.5*u_2**2/u_1)\n",
    "    f[2,] = (u_3 + (gamma - 1)*(u_3 - 0.5*u_2**2/u_1))*u_2/u_1\n",
    "    return f"
   ]
  },
  {
   "cell_type": "code",
   "execution_count": 460,
   "metadata": {
    "collapsed": false,
    "scrolled": true
   },
   "outputs": [],
   "source": [
    "un = numpy.zeros_like(u)\n",
    "uplus = numpy.zeros_like(u)\n",
    "fplus = numpy.zeros_like(u)\n",
    "f = numpy.zeros_like(u)\n",
    "\n",
    "\n",
    "for n in range (0,50):\n",
    "    un = u.copy()\n",
    "    f = computef(u)\n",
    "    uplus[:,:-1] = 0.5*(un[:,1:] + un[:,:-1]) - dt/(2*dx) *(f[:,1:]-f[:,:-1])\n",
    "    uplus[:,-1] = u[:,-1]\n",
    "    fplus = computef(uplus)\n",
    "    u[:,1:-1] = un[:,1:-1] - dt/dx * (fplus[:,1:-1] - fplus[:,:-2])\n"
   ]
  },
  {
   "cell_type": "code",
   "execution_count": 461,
   "metadata": {
    "collapsed": false
   },
   "outputs": [
    {
     "name": "stdout",
     "output_type": "stream",
     "text": [
      "50\n",
      "0.421948610156\n",
      "123.574466152\n",
      "93838.7630195\n",
      "292.866152839\n"
     ]
    }
   ],
   "source": [
    "for i in range (len(x)):\n",
    "    if x[i] == 2.5:\n",
    "        print (i)\n",
    "        print(u[0,i])\n",
    "        print(u[1,i])\n",
    "        print(u[2,i])\n",
    "        print(u[1,i]/u[0,i])"
   ]
  },
  {
   "cell_type": "code",
   "execution_count": 462,
   "metadata": {
    "collapsed": false
   },
   "outputs": [
    {
     "data": {
      "text/plain": [
       "30297.349509584194"
      ]
     },
     "execution_count": 462,
     "metadata": {},
     "output_type": "execute_result"
    }
   ],
   "source": [
    "pp = (gamma - 1)*(u[2,50]-0.5*(u[1,50]**2/u[0,50]))\n",
    "pp"
   ]
  },
  {
   "cell_type": "code",
   "execution_count": 463,
   "metadata": {
    "collapsed": false
   },
   "outputs": [
    {
     "data": {
      "text/plain": [
       "[<matplotlib.lines.Line2D at 0x7f281be87278>]"
      ]
     },
     "execution_count": 463,
     "metadata": {},
     "output_type": "execute_result"
    },
    {
     "data": {
      "image/png": "[encoded data removed]",
      "text/plain": [
       "<matplotlib.figure.Figure at 0x7f281bec6208>"
      ]
     },
     "metadata": {},
     "output_type": "display_data"
    }
   ],
   "source": [
    "pyplot.plot(x, u[1]/u[0])"
   ]
  },
  {
   "cell_type": "code",
   "execution_count": 464,
   "metadata": {
    "collapsed": true
   },
   "outputs": [],
   "source": [
    "pp = (gamma - 1)*(u[2,]-0.5*(u[1,]**2/u[0,]))"
   ]
  },
  {
   "cell_type": "code",
   "execution_count": 465,
   "metadata": {
    "collapsed": false
   },
   "outputs": [
    {
     "data": {
      "text/plain": [
       "[<matplotlib.lines.Line2D at 0x7f281bde3ef0>]"
      ]
     },
     "execution_count": 465,
     "metadata": {},
     "output_type": "execute_result"
    },
    {
     "data": {
      "image/png": "[encoded data removed]",
      "text/plain": [
       "<matplotlib.figure.Figure at 0x7f281be95e80>"
      ]
     },
     "metadata": {},
     "output_type": "display_data"
    }
   ],
   "source": [
    "pyplot.plot(x,pp)"
   ]
  },
  {
   "cell_type": "code",
   "execution_count": null,
   "metadata": {
    "collapsed": true
   },
   "outputs": [],
   "source": []
  }
 ],
 "metadata": {
  "anaconda-cloud": {},
  "kernelspec": {
   "display_name": "Python [default]",
   "language": "python",
   "name": "python3"
  },
  "language_info": {
   "codemirror_mode": {
    "name": "ipython",
    "version": 3
   },
   "file_extension": ".py",
   "mimetype": "text/x-python",
   "name": "python",
   "nbconvert_exporter": "python",
   "pygments_lexer": "ipython3",
   "version": "3.5.2"
  }
 },
 "nbformat": 4,
 "nbformat_minor": 1
}
