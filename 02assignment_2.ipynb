{
 "cells": [
  {
   "cell_type": "code",
   "execution_count": 80,
   "metadata": {
    "collapsed": true
   },
   "outputs": [],
   "source": [
    "import numpy                       \n",
    "from matplotlib import pyplot    \n",
    "%matplotlib inline\n",
    "from matplotlib import rcParams\n",
    "rcParams['font.family'] = 'serif'\n",
    "rcParams['font.size'] = 16"
   ]
  },
  {
   "cell_type": "code",
   "execution_count": 81,
   "metadata": {
    "collapsed": false
   },
   "outputs": [],
   "source": [
    "import sympy\n",
    "from sympy import init_printing"
   ]
  },
  {
   "cell_type": "code",
   "execution_count": 82,
   "metadata": {
    "collapsed": false
   },
   "outputs": [
    {
     "data": {
      "text/plain": [
       "rhoo"
      ]
     },
     "execution_count": 82,
     "metadata": {},
     "output_type": "execute_result"
    }
   ],
   "source": [
    "rhoo = sympy.symbols('rhoo')\n",
    "rhoo"
   ]
  },
  {
   "cell_type": "code",
   "execution_count": 83,
   "metadata": {
    "collapsed": true
   },
   "outputs": [],
   "source": [
    "Vmax = 80\n",
    "L = 11\n",
    "rho_max = 250\n",
    "nx = 51\n",
    "dt = 0.001\n",
    "dx = 0.22 #dao di dx shi duoshao yihou zaishuo\n",
    "x = numpy.linspace(0, L, nx)"
   ]
  },
  {
   "cell_type": "code",
   "execution_count": 84,
   "metadata": {
    "collapsed": true
   },
   "outputs": [],
   "source": [
    "rho0 = numpy.ones(nx)*10\n",
    "rho0[10:20] = 50\n"
   ]
  },
  {
   "cell_type": "code",
   "execution_count": 85,
   "metadata": {
    "collapsed": false
   },
   "outputs": [
    {
     "data": {
      "text/plain": [
       "80*rhoo*(-rhoo/250 + 1)"
      ]
     },
     "execution_count": 85,
     "metadata": {},
     "output_type": "execute_result"
    }
   ],
   "source": [
    "F = Vmax*rhoo*(1-(rhoo/rho_max))\n",
    "F"
   ]
  },
  {
   "cell_type": "code",
   "execution_count": 86,
   "metadata": {
    "collapsed": false
   },
   "outputs": [
    {
     "data": {
      "text/plain": [
       "-16*rhoo/25 + 80"
      ]
     },
     "execution_count": 86,
     "metadata": {},
     "output_type": "execute_result"
    }
   ],
   "source": [
    "Fprime = F.diff(rhoo)\n",
    "Fprime"
   ]
  },
  {
   "cell_type": "code",
   "execution_count": 87,
   "metadata": {
    "collapsed": false
   },
   "outputs": [],
   "source": [
    "from sympy.utilities.lambdify import lambdify"
   ]
  },
  {
   "cell_type": "code",
   "execution_count": 88,
   "metadata": {
    "collapsed": false
   },
   "outputs": [],
   "source": [
    "FFprime = lambdify((rhoo), Fprime)"
   ]
  },
  {
   "cell_type": "code",
   "execution_count": 89,
   "metadata": {
    "collapsed": false
   },
   "outputs": [
    {
     "data": {
      "text/plain": [
       "array([ 80.    ,  79.8592,  79.7184,  79.5776,  79.4368,  79.296 ,\n",
       "        79.1552,  79.0144,  78.8736,  78.7328,  78.592 ,  78.4512,\n",
       "        78.3104,  78.1696,  78.0288,  77.888 ,  77.7472,  77.6064,\n",
       "        77.4656,  77.3248,  77.184 ,  77.0432,  76.9024,  76.7616,\n",
       "        76.6208,  76.48  ,  76.3392,  76.1984,  76.0576,  75.9168,\n",
       "        75.776 ,  75.6352,  75.4944,  75.3536,  75.2128,  75.072 ,\n",
       "        74.9312,  74.7904,  74.6496,  74.5088,  74.368 ,  74.2272,\n",
       "        74.0864,  73.9456,  73.8048,  73.664 ,  73.5232,  73.3824,\n",
       "        73.2416,  73.1008,  72.96  ])"
      ]
     },
     "execution_count": 89,
     "metadata": {},
     "output_type": "execute_result"
    }
   ],
   "source": [
    "Fpie = numpy.asarray([FFprime(xi) for xi in x])\n",
    "Fpie"
   ]
  },
  {
   "cell_type": "code",
   "execution_count": 90,
   "metadata": {
    "collapsed": false
   },
   "outputs": [],
   "source": [
    "rho = rho0"
   ]
  },
  {
   "cell_type": "code",
   "execution_count": 91,
   "metadata": {
    "collapsed": false
   },
   "outputs": [],
   "source": [
    "for i in range (50):\n",
    "    rhon = rho.copy()\n",
    "    rho[1:] = rho[1:] - (dt/dx)*Fpie[1:]*(rho[1:]-rho[:-1])\n",
    "    rho[0] = 10"
   ]
  },
  {
   "cell_type": "code",
   "execution_count": 92,
   "metadata": {
    "collapsed": false
   },
   "outputs": [
    {
     "data": {
      "text/plain": [
       "[<matplotlib.lines.Line2D at 0x7f5bce789b70>]"
      ]
     },
     "execution_count": 92,
     "metadata": {},
     "output_type": "execute_result"
    },
    {
     "data": {
      "image/png": "[encoded data removed]",
      "text/plain": [
       "<matplotlib.figure.Figure at 0x7f5bcda1d4e0>"
      ]
     },
     "metadata": {},
     "output_type": "display_data"
    }
   ],
   "source": [
    "pyplot.plot(x, rho)"
   ]
  },
  {
   "cell_type": "code",
   "execution_count": 93,
   "metadata": {
    "collapsed": false
   },
   "outputs": [
    {
     "data": {
      "text/plain": [
       "44.270242804815915"
      ]
     },
     "execution_count": 93,
     "metadata": {},
     "output_type": "execute_result"
    }
   ],
   "source": [
    "max(rho)"
   ]
  },
  {
   "cell_type": "code",
   "execution_count": 94,
   "metadata": {
    "collapsed": false
   },
   "outputs": [
    {
     "data": {
      "text/plain": [
       "65.833522302458903"
      ]
     },
     "execution_count": 94,
     "metadata": {},
     "output_type": "execute_result"
    }
   ],
   "source": [
    "V = Vmax*(1-(rho/rho_max))\n",
    "max(V)\n",
    "numpy.mean(V)\n",
    "min(V)"
   ]
  },
  {
   "cell_type": "code",
   "execution_count": 95,
   "metadata": {
    "collapsed": false
   },
   "outputs": [
    {
     "data": {
      "text/plain": [
       "array([ 10.        ,  10.        ,  10.        ,  10.        ,\n",
       "        10.        ,  10.        ,  10.        ,  10.        ,\n",
       "        10.        ,  10.        ,  10.00000001,  10.0000003 ,\n",
       "        10.0000043 ,  10.0000406 ,  10.00028145,  10.00152938,\n",
       "        10.00678571,  10.02528873,  10.0808281 ,  10.22515956,\n",
       "        10.55376185,  11.21542173,  12.4027856 ,  14.31374285,\n",
       "        17.08634321,  20.72813137,  25.07210043,  29.78468239,\n",
       "        34.42675567,  38.54138395,  41.73109433,  43.70091093,\n",
       "        44.2702428 ,  43.375533  ,  41.08175088,  37.59911278,\n",
       "        33.28189998,  28.58707607,  23.99244954,  19.90065438,\n",
       "        16.56635195,  14.07258531,  12.35753514,  11.27164342,\n",
       "        10.63819169,  10.29759261,  10.12876616,  10.05163022,\n",
       "        10.01915625,  10.00656675,  10.00207625])"
      ]
     },
     "execution_count": 95,
     "metadata": {},
     "output_type": "execute_result"
    }
   ],
   "source": [
    "rho"
   ]
  },
  {
   "cell_type": "code",
   "execution_count": 96,
   "metadata": {
    "collapsed": false
   },
   "outputs": [
    {
     "data": {
      "text/plain": [
       "array([ 76.8       ,  76.8       ,  76.8       ,  76.8       ,\n",
       "        76.8       ,  76.8       ,  76.8       ,  76.8       ,\n",
       "        76.8       ,  76.8       ,  76.8       ,  76.7999999 ,\n",
       "        76.79999862,  76.79998701,  76.79990994,  76.7995106 ,\n",
       "        76.79782857,  76.79190761,  76.77413501,  76.72794894,\n",
       "        76.62279621,  76.41106505,  76.03110861,  75.41960229,\n",
       "        74.53237017,  73.36699796,  71.97692786,  70.46890163,\n",
       "        68.98343819,  67.66675714,  66.64604981,  66.0157085 ,\n",
       "        65.8335223 ,  66.11982944,  66.85383972,  67.96828391,\n",
       "        69.34979201,  70.85213566,  72.32241615,  73.6317906 ,\n",
       "        74.69876738,  75.4967727 ,  76.04558875,  76.39307411,\n",
       "        76.59577866,  76.70477036,  76.75879483,  76.78347833,\n",
       "        76.79387   ,  76.79789864,  76.7993356 ])"
      ]
     },
     "execution_count": 96,
     "metadata": {},
     "output_type": "execute_result"
    }
   ],
   "source": [
    "V"
   ]
  },
  {
   "cell_type": "code",
   "execution_count": 97,
   "metadata": {
    "collapsed": false
   },
   "outputs": [
    {
     "data": {
      "text/plain": [
       "74.369268406957403"
      ]
     },
     "execution_count": 97,
     "metadata": {},
     "output_type": "execute_result"
    }
   ],
   "source": [
    "numpy.mean(V)"
   ]
  },
  {
   "cell_type": "code",
   "execution_count": null,
   "metadata": {
    "collapsed": true
   },
   "outputs": [],
   "source": []
  }
 ],
 "metadata": {
  "anaconda-cloud": {},
  "kernelspec": {
   "display_name": "Python [default]",
   "language": "python",
   "name": "python3"
  },
  "language_info": {
   "codemirror_mode": {
    "name": "ipython",
    "version": 3
   },
   "file_extension": ".py",
   "mimetype": "text/x-python",
   "name": "python",
   "nbconvert_exporter": "python",
   "pygments_lexer": "ipython3",
   "version": "3.5.2"
  }
 },
 "nbformat": 4,
 "nbformat_minor": 1
}
