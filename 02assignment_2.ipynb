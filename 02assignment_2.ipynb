{
 "cells": [
  {
   "cell_type": "code",
   "execution_count": 98,
   "metadata": {
    "collapsed": true
   },
   "outputs": [],
   "source": [
    "import numpy                       \n",
    "from matplotlib import pyplot    \n",
    "%matplotlib inline\n",
    "from matplotlib import rcParams\n",
    "rcParams['font.family'] = 'serif'\n",
    "rcParams['font.size'] = 16"
   ]
  },
  {
   "cell_type": "code",
   "execution_count": 115,
   "metadata": {
    "collapsed": false
   },
   "outputs": [],
   "source": [
    "import sympy\n",
    "from sympy import init_printing"
   ]
  },
  {
   "cell_type": "code",
   "execution_count": 116,
   "metadata": {
    "collapsed": false
   },
   "outputs": [],
   "source": [
    "rhoo = sympy.symbols('rhoo')"
   ]
  },
  {
   "cell_type": "code",
   "execution_count": 117,
   "metadata": {
    "collapsed": true
   },
   "outputs": [],
   "source": [
    "Vmax = 80\n",
    "L = 11\n",
    "rho_max = 250\n",
    "nx = 51\n",
    "dt = 0.001\n",
    "dx = 0.22    #L/nx-1 = 11/50 = 0.22\n",
    "x = numpy.linspace(0, L, nx)"
   ]
  },
  {
   "cell_type": "code",
   "execution_count": 118,
   "metadata": {
    "collapsed": true
   },
   "outputs": [],
   "source": [
    "rho0 = numpy.ones(nx)*10\n",
    "rho0[10:20] = 50\n"
   ]
  },
  {
   "cell_type": "code",
   "execution_count": 119,
   "metadata": {
    "collapsed": false
   },
   "outputs": [
    {
     "data": {
      "text/plain": [
       "80*rhoo*(-rhoo/250 + 1)"
      ]
     },
     "execution_count": 119,
     "metadata": {},
     "output_type": "execute_result"
    }
   ],
   "source": [
    "F = Vmax*rhoo*(1-(rhoo/rho_max))\n",
    "F"
   ]
  },
  {
   "cell_type": "code",
   "execution_count": 120,
   "metadata": {
    "collapsed": false
   },
   "outputs": [
    {
     "data": {
      "text/plain": [
       "-16*rhoo/25 + 80"
      ]
     },
     "execution_count": 120,
     "metadata": {},
     "output_type": "execute_result"
    }
   ],
   "source": [
    "Fprime = F.diff(rhoo)\n",
    "Fprime"
   ]
  },
  {
   "cell_type": "code",
   "execution_count": 121,
   "metadata": {
    "collapsed": false
   },
   "outputs": [],
   "source": [
    "from sympy.utilities.lambdify import lambdify"
   ]
  },
  {
   "cell_type": "code",
   "execution_count": 122,
   "metadata": {
    "collapsed": false
   },
   "outputs": [],
   "source": [
    "FFprime = lambdify((rhoo), Fprime)"
   ]
  },
  {
   "cell_type": "code",
   "execution_count": 123,
   "metadata": {
    "collapsed": false
   },
   "outputs": [
    {
     "data": {
      "text/plain": [
       "array([ 73.6,  73.6,  73.6,  73.6,  73.6,  73.6,  73.6,  73.6,  73.6,\n",
       "        73.6,  48. ,  48. ,  48. ,  48. ,  48. ,  48. ,  48. ,  48. ,\n",
       "        48. ,  48. ,  73.6,  73.6,  73.6,  73.6,  73.6,  73.6,  73.6,\n",
       "        73.6,  73.6,  73.6,  73.6,  73.6,  73.6,  73.6,  73.6,  73.6,\n",
       "        73.6,  73.6,  73.6,  73.6,  73.6,  73.6,  73.6,  73.6,  73.6,\n",
       "        73.6,  73.6,  73.6,  73.6,  73.6,  73.6])"
      ]
     },
     "execution_count": 123,
     "metadata": {},
     "output_type": "execute_result"
    }
   ],
   "source": [
    "Fpie = numpy.asarray([FFprime(xi) for xi in rho0])    #there is a problem: xi should be in rho list\n",
    "Fpie"
   ]
  },
  {
   "cell_type": "code",
   "execution_count": 124,
   "metadata": {
    "collapsed": false
   },
   "outputs": [],
   "source": [
    "rho = rho0"
   ]
  },
  {
   "cell_type": "code",
   "execution_count": 125,
   "metadata": {
    "collapsed": false
   },
   "outputs": [],
   "source": [
    "for i in range (50):\n",
    "    rhon = rho.copy()\n",
    "    rho[1:] = rho[1:] - (dt/dx)*Fpie[1:]*(rho[1:]-rho[:-1])\n",
    "    rho[0] = 10\n",
    "    Fpie = numpy.asarray([FFprime(xi) for xi in rho])\n",
    "    "
   ]
  },
  {
   "cell_type": "code",
   "execution_count": 126,
   "metadata": {
    "collapsed": false
   },
   "outputs": [
    {
     "data": {
      "text/plain": [
       "[<matplotlib.lines.Line2D at 0x7f5bcd1e81d0>]"
      ]
     },
     "execution_count": 126,
     "metadata": {},
     "output_type": "execute_result"
    },
    {
     "data": {
      "image/png": "[encoded data removed]",
      "text/plain": [
       "<matplotlib.figure.Figure at 0x7f5bce77f978>"
      ]
     },
     "metadata": {},
     "output_type": "display_data"
    }
   ],
   "source": [
    "pyplot.plot(x, rho)"
   ]
  },
  {
   "cell_type": "code",
   "execution_count": 127,
   "metadata": {
    "collapsed": false
   },
   "outputs": [
    {
     "data": {
      "text/plain": [
       "20.56188759703987"
      ]
     },
     "execution_count": 127,
     "metadata": {},
     "output_type": "execute_result"
    }
   ],
   "source": [
    "V = Vmax*(1-rho/rho_max)\n",
    "numpy.mean(V)/3.6"
   ]
  },
  {
   "cell_type": "code",
   "execution_count": null,
   "metadata": {
    "collapsed": true
   },
   "outputs": [],
   "source": []
  },
  {
   "cell_type": "code",
   "execution_count": null,
   "metadata": {
    "collapsed": true
   },
   "outputs": [],
   "source": []
  },
  {
   "cell_type": "code",
   "execution_count": 132,
   "metadata": {
    "collapsed": true
   },
   "outputs": [],
   "source": [
    "Vmax = 80\n",
    "L = 11\n",
    "rho_max = 250\n",
    "nx = 51\n",
    "dt = 0.001\n",
    "dx = 0.22    #L/nx-1 = 11/50 = 0.22\n",
    "x = numpy.linspace(0, L, nx)"
   ]
  },
  {
   "cell_type": "code",
   "execution_count": 133,
   "metadata": {
    "collapsed": true
   },
   "outputs": [],
   "source": [
    "rho0 = numpy.ones(nx)*10\n",
    "rho0[10:20] = 50\n",
    "F = Vmax*rhoo*(1-(rhoo/rho_max))\n",
    "Fprime = F.diff(rhoo)\n",
    "FFprime = lambdify((rhoo), Fprime)\n",
    "Fpie = numpy.asarray([FFprime(xi) for xi in rho0])\n",
    "rho = rho0\n",
    "\n",
    "\n"
   ]
  },
  {
   "cell_type": "code",
   "execution_count": 134,
   "metadata": {
    "collapsed": true
   },
   "outputs": [],
   "source": [
    "for i in range (101):\n",
    "    rhon = rho.copy()\n",
    "    rho[1:] = rho[1:] - (dt/dx)*Fpie[1:]*(rho[1:]-rho[:-1])\n",
    "    rho[0] = 10\n",
    "    Fpie = numpy.asarray([FFprime(xi) for xi in rho])"
   ]
  },
  {
   "cell_type": "code",
   "execution_count": 135,
   "metadata": {
    "collapsed": false
   },
   "outputs": [
    {
     "data": {
      "text/plain": [
       "18.586633475277495"
      ]
     },
     "execution_count": 135,
     "metadata": {},
     "output_type": "execute_result"
    }
   ],
   "source": [
    "V = Vmax*(1-(rho/rho_max))\n",
    "\n",
    "min(V)/3.6"
   ]
  },
  {
   "cell_type": "code",
   "execution_count": 95,
   "metadata": {
    "collapsed": false
   },
   "outputs": [
    {
     "data": {
      "text/plain": [
       "array([ 10.        ,  10.        ,  10.        ,  10.        ,\n",
       "        10.        ,  10.        ,  10.        ,  10.        ,\n",
       "        10.        ,  10.        ,  10.00000001,  10.0000003 ,\n",
       "        10.0000043 ,  10.0000406 ,  10.00028145,  10.00152938,\n",
       "        10.00678571,  10.02528873,  10.0808281 ,  10.22515956,\n",
       "        10.55376185,  11.21542173,  12.4027856 ,  14.31374285,\n",
       "        17.08634321,  20.72813137,  25.07210043,  29.78468239,\n",
       "        34.42675567,  38.54138395,  41.73109433,  43.70091093,\n",
       "        44.2702428 ,  43.375533  ,  41.08175088,  37.59911278,\n",
       "        33.28189998,  28.58707607,  23.99244954,  19.90065438,\n",
       "        16.56635195,  14.07258531,  12.35753514,  11.27164342,\n",
       "        10.63819169,  10.29759261,  10.12876616,  10.05163022,\n",
       "        10.01915625,  10.00656675,  10.00207625])"
      ]
     },
     "execution_count": 95,
     "metadata": {},
     "output_type": "execute_result"
    }
   ],
   "source": [
    "rho"
   ]
  },
  {
   "cell_type": "code",
   "execution_count": 96,
   "metadata": {
    "collapsed": false
   },
   "outputs": [
    {
     "data": {
      "text/plain": [
       "array([ 76.8       ,  76.8       ,  76.8       ,  76.8       ,\n",
       "        76.8       ,  76.8       ,  76.8       ,  76.8       ,\n",
       "        76.8       ,  76.8       ,  76.8       ,  76.7999999 ,\n",
       "        76.79999862,  76.79998701,  76.79990994,  76.7995106 ,\n",
       "        76.79782857,  76.79190761,  76.77413501,  76.72794894,\n",
       "        76.62279621,  76.41106505,  76.03110861,  75.41960229,\n",
       "        74.53237017,  73.36699796,  71.97692786,  70.46890163,\n",
       "        68.98343819,  67.66675714,  66.64604981,  66.0157085 ,\n",
       "        65.8335223 ,  66.11982944,  66.85383972,  67.96828391,\n",
       "        69.34979201,  70.85213566,  72.32241615,  73.6317906 ,\n",
       "        74.69876738,  75.4967727 ,  76.04558875,  76.39307411,\n",
       "        76.59577866,  76.70477036,  76.75879483,  76.78347833,\n",
       "        76.79387   ,  76.79789864,  76.7993356 ])"
      ]
     },
     "execution_count": 96,
     "metadata": {},
     "output_type": "execute_result"
    }
   ],
   "source": [
    "V"
   ]
  },
  {
   "cell_type": "code",
   "execution_count": 97,
   "metadata": {
    "collapsed": false
   },
   "outputs": [
    {
     "data": {
      "text/plain": [
       "74.369268406957403"
      ]
     },
     "execution_count": 97,
     "metadata": {},
     "output_type": "execute_result"
    }
   ],
   "source": [
    "numpy.mean(V)"
   ]
  },
  {
   "cell_type": "code",
   "execution_count": null,
   "metadata": {
    "collapsed": true
   },
   "outputs": [],
   "source": []
  }
 ],
 "metadata": {
  "anaconda-cloud": {},
  "kernelspec": {
   "display_name": "Python [default]",
   "language": "python",
   "name": "python3"
  },
  "language_info": {
   "codemirror_mode": {
    "name": "ipython",
    "version": 3
   },
   "file_extension": ".py",
   "mimetype": "text/x-python",
   "name": "python",
   "nbconvert_exporter": "python",
   "pygments_lexer": "ipython3",
   "version": "3.5.2"
  }
 },
 "nbformat": 4,
 "nbformat_minor": 1
}
